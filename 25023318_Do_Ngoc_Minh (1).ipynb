{
  "nbformat": 4,
  "nbformat_minor": 0,
  "metadata": {
    "colab": {
      "provenance": []
    },
    "kernelspec": {
      "name": "python3",
      "display_name": "Python 3"
    },
    "language_info": {
      "name": "python"
    }
  },
  "cells": [
    {
      "cell_type": "markdown",
      "source": [],
      "metadata": {
        "id": "C9sGeTIUdymH"
      }
    },
    {
      "cell_type": "code",
      "source": [
        "#W2A1\n",
        "print (\"Hello World \")"
      ],
      "metadata": {
        "colab": {
          "base_uri": "https://localhost:8080/"
        },
        "id": "Mc4iG42KZK4z",
        "outputId": "8332b33d-db24-451b-e655-bdfa895e9795"
      },
      "execution_count": null,
      "outputs": [
        {
          "output_type": "stream",
          "name": "stdout",
          "text": [
            "Hello World \n"
          ]
        }
      ]
    },
    {
      "cell_type": "code",
      "source": [
        "#W2A2\n",
        "user_name = input(\"Hi, what is your name? \")\n",
        "print(f\"Hello, {user_name}\")"
      ],
      "metadata": {
        "colab": {
          "base_uri": "https://localhost:8080/"
        },
        "id": "dy78chC0V-6F",
        "outputId": "58719cc0-d1d6-4b5b-f33b-5dce79d52c11"
      },
      "execution_count": null,
      "outputs": [
        {
          "output_type": "stream",
          "name": "stdout",
          "text": [
            "Hi, what is your name? Minh\n",
            "Hello, Minh\n"
          ]
        }
      ]
    },
    {
      "cell_type": "code",
      "source": [
        "#W2A3\n",
        "so_nguyen = input(\"Nhập hai số nguyên cách nhau bằng dấu cách: \").split()\n",
        "a = int(so_nguyen[0])\n",
        "b = int(so_nguyen[1])\n",
        "sum = a+b\n",
        "hieu = a-b\n",
        "tich = a*b\n",
        "thuong = a/b\n",
        "print(sum,hieu,tich,thuong)"
      ],
      "metadata": {
        "colab": {
          "base_uri": "https://localhost:8080/"
        },
        "id": "y32BN2GyxVS0",
        "outputId": "e6dce150-8fff-4ba0-d081-18bee3cfc95a"
      },
      "execution_count": null,
      "outputs": [
        {
          "output_type": "stream",
          "name": "stdout",
          "text": [
            "Nhập hai số nguyên cách nhau bằng dấu cách: 5 6\n",
            "11 -1 30 0.8333333333333334\n"
          ]
        }
      ]
    },
    {
      "cell_type": "code",
      "source": [
        "#W2A3\n",
        "a = int(input(\"Nhập số nguyên a: \"))\n",
        "b = int(input(\"Nhập số nguyên b: \"))\n",
        "sum = (a + b, 2)\n",
        "hieu = (a - b, 2)\n",
        "tich = round(a * b, 2)\n",
        "thuong = round(a / b, 2)\n",
        "print(\"tong =\", sum)\n",
        "print(\"hieu =\", hieu)\n",
        "print(\"tich =\", tich)\n",
        "print(\"thuong =\", thuong)"
      ],
      "metadata": {
        "colab": {
          "base_uri": "https://localhost:8080/"
        },
        "id": "ghBR_Pjnd4UZ",
        "outputId": "b99306a8-0d5f-4fb6-c4cc-a0c1a3806a74"
      },
      "execution_count": 3,
      "outputs": [
        {
          "output_type": "stream",
          "name": "stdout",
          "text": [
            "Nhập số nguyên a: 2\n",
            "Nhập số nguyên b: 3\n",
            "tong = 5\n",
            "hieu = -1\n",
            "tich = 6\n",
            "thuong = 0.67\n"
          ]
        }
      ]
    },
    {
      "cell_type": "code",
      "source": [
        "#W2A4\n",
        "a1, b1, c1, a2, b2, a3 = input(\"Nhập 6 diem cách nhau bằng dấu cách: \").split()\n",
        "diem_trung_binh = round((float(a1) + float(b1) + float(c1) + (float(a2) + float(b2))*2 + float(a3)*3) / 10, 1)\n",
        "print(diem_trung_binh)"
      ],
      "metadata": {
        "colab": {
          "base_uri": "https://localhost:8080/"
        },
        "id": "eVk7kY_qfk0i",
        "outputId": "3a8e47a7-5fa5-4e90-e04c-e9b8a12dd0a6"
      },
      "execution_count": 9,
      "outputs": [
        {
          "output_type": "stream",
          "name": "stdout",
          "text": [
            "Nhập 6 diem cách nhau bằng dấu cách: 5.5 4.75 9 10 8 9\n",
            "8.2\n"
          ]
        }
      ]
    },
    {
      "cell_type": "code",
      "source": [
        "#W2A5\n",
        "a, b = input(\"Nhập hai số cách nhau bằng dấu cách: \").split()\n",
        "a = float(a)\n",
        "b = float(b)\n",
        "print(\"luy thua =\", a**b)"
      ],
      "metadata": {
        "colab": {
          "base_uri": "https://localhost:8080/"
        },
        "id": "GoFl9V2_hTpv",
        "outputId": "f3249c93-4953-4dac-ecef-bb1661c7a5a7"
      },
      "execution_count": 14,
      "outputs": [
        {
          "output_type": "stream",
          "name": "stdout",
          "text": [
            "Nhập hai số cách nhau bằng dấu cách: 3 4\n",
            "luy thua = 81.0\n"
          ]
        }
      ]
    },
    {
      "cell_type": "code",
      "source": [
        "#W2A7\n",
        "A = ((13**2)*5)+5\n",
        "B = 13**2*3+5\n",
        "print(A, B)"
      ],
      "metadata": {
        "colab": {
          "base_uri": "https://localhost:8080/"
        },
        "id": "XZJxVJBojQgB",
        "outputId": "a49621c5-c438-4633-f605-11ae6ca4baf1"
      },
      "execution_count": 15,
      "outputs": [
        {
          "output_type": "stream",
          "name": "stdout",
          "text": [
            "850 512\n"
          ]
        }
      ]
    },
    {
      "cell_type": "code",
      "source": [
        "#W2A8\n",
        "C = float(input(\"Độ C = \"))\n",
        "print(\"Độ F =\", round(9/5*C + 32,2))"
      ],
      "metadata": {
        "colab": {
          "base_uri": "https://localhost:8080/"
        },
        "id": "uVYNxLick8uu",
        "outputId": "fb038fc9-4a86-4d3e-cc48-788227c79aae"
      },
      "execution_count": 18,
      "outputs": [
        {
          "output_type": "stream",
          "name": "stdout",
          "text": [
            "Độ C = 12.5\n",
            "Độ F = 54.5\n"
          ]
        }
      ]
    },
    {
      "cell_type": "code",
      "source": [
        "#W2A9\n",
        "a = input(\"Giá của đồng hồ: \")\n",
        "a = float(a) # Convert the input to a float\n",
        "total_price = (a + 10) * (0.30 + 0.10) + a\n",
        "print(\"số tiền phải trả\", round(total_price, 2))"
      ],
      "metadata": {
        "colab": {
          "base_uri": "https://localhost:8080/"
        },
        "id": "abJpdk4plRMG",
        "outputId": "71c239e3-6f94-43b7-913e-c0896900cee4"
      },
      "execution_count": 23,
      "outputs": [
        {
          "output_type": "stream",
          "name": "stdout",
          "text": [
            "Giá của đồng hồ: 40\n",
            "số tiền phải trả 60.0\n"
          ]
        }
      ]
    },
    {
      "cell_type": "code",
      "source": [
        "#W2A10\n",
        "user_1 = input()\n",
        "user_2 = input()\n",
        "User_3 = input()\n",
        "print(f\"Hello {User_3}, {user_2} and {user_1}\")"
      ],
      "metadata": {
        "colab": {
          "base_uri": "https://localhost:8080/"
        },
        "id": "EVWTVCJuZtH-",
        "outputId": "74d6377d-fa6f-4906-bf5b-b730a0c06e8e"
      },
      "execution_count": null,
      "outputs": [
        {
          "output_type": "stream",
          "name": "stdout",
          "text": [
            "my\n",
            "ha\n",
            "ami\n",
            "Hello ami, ha and my\n"
          ]
        }
      ]
    },
    {
      "cell_type": "code",
      "source": [
        "#W2A10\n",
        "# When prompted, enter three values separated by spaces\n",
        "a, b, c = input(\"Enter three values separated by spaces: \").split()\n",
        "print(f\"Hi {c} ,  {b} and {a}\")"
      ],
      "metadata": {
        "id": "ixhKjOSifuBO"
      },
      "execution_count": null,
      "outputs": []
    },
    {
      "cell_type": "code",
      "source": [
        "#W2A11\n",
        "h = int(input(\"giờ =\"))\n",
        "p = int(input(\"phút =\"))\n",
        "print(\"giây =\", h*3600 + p*60)"
      ],
      "metadata": {
        "colab": {
          "base_uri": "https://localhost:8080/"
        },
        "id": "QjbimVf1odfx",
        "outputId": "8be3f7da-4c5c-45b8-d88e-b041789df36d"
      },
      "execution_count": 24,
      "outputs": [
        {
          "output_type": "stream",
          "name": "stdout",
          "text": [
            "giờ =5\n",
            "phút =10\n",
            "giây = 18600\n"
          ]
        }
      ]
    },
    {
      "cell_type": "code",
      "source": [
        "#W2A12\n",
        "canh = int(input(\"cạnh = \"))\n",
        "print(\"số miếng dán là: \", canh*canh*6)"
      ],
      "metadata": {
        "colab": {
          "base_uri": "https://localhost:8080/"
        },
        "id": "1QU5b8fFpMN2",
        "outputId": "8eb92715-2698-4f89-f68b-9a0f7b64e50c"
      },
      "execution_count": 28,
      "outputs": [
        {
          "output_type": "stream",
          "name": "stdout",
          "text": [
            "cạnh = 2\n",
            "số miếng dán là:  24\n"
          ]
        }
      ]
    },
    {
      "cell_type": "code",
      "source": [
        "#W2A13\n",
        "a = int(input(\"a = \"))\n",
        "b = int(input(\"b = \"))\n",
        "print(\"hàng đơn vị của a x b = \", (a*b) % 10)"
      ],
      "metadata": {
        "colab": {
          "base_uri": "https://localhost:8080/"
        },
        "id": "M0fvA4LEpPCC",
        "outputId": "f3818203-cd91-47c4-8a7b-492aca17c774"
      },
      "execution_count": 30,
      "outputs": [
        {
          "output_type": "stream",
          "name": "stdout",
          "text": [
            "a = 5\n",
            "b = 3\n",
            "hàng đơn vị của a x b =  5\n"
          ]
        }
      ]
    },
    {
      "cell_type": "code",
      "source": [
        "#W2A14\n",
        "a = int(input(\"a = \"))\n",
        "b = int(input(\"b = \"))\n",
        "a, b = b, a\n",
        "print(\"Sau khi hoán đổi: a =\", a)\n",
        "print(\"Sau khi hoán đổi: b =\", b)"
      ],
      "metadata": {
        "colab": {
          "base_uri": "https://localhost:8080/"
        },
        "id": "8vsb9GlLqKe8",
        "outputId": "2852e329-ee85-441e-a062-c82c040bfbe2"
      },
      "execution_count": 32,
      "outputs": [
        {
          "output_type": "stream",
          "name": "stdout",
          "text": [
            "a = 6\n",
            "b = 5\n",
            "Sau khi hoán đổi: a = 5\n",
            "Sau khi hoán đổi: b = 6\n"
          ]
        }
      ]
    },
    {
      "cell_type": "code",
      "source": [
        "#W2A16\n",
        "print(\"Spring\\nSummer\\nAutumn\\nWinter\")"
      ],
      "metadata": {
        "colab": {
          "base_uri": "https://localhost:8080/"
        },
        "id": "BUU1CxUldq4w",
        "outputId": "daff4d1a-1ac7-4697-fed8-5a593c46d2b2"
      },
      "execution_count": null,
      "outputs": [
        {
          "output_type": "stream",
          "name": "stdout",
          "text": [
            "Spring\n",
            "Summer\n",
            "Autumn\n",
            "Winter\n"
          ]
        }
      ]
    },
    {
      "cell_type": "code",
      "source": [
        "#W2A17\n",
        "print(\"*\")\n",
        "print(\"***\")\n",
        "print(\"*****\")"
      ],
      "metadata": {
        "colab": {
          "base_uri": "https://localhost:8080/"
        },
        "id": "PALfb3kpg1Jj",
        "outputId": "8f6257bf-02fd-40d2-c4d6-13b4a06bbc40"
      },
      "execution_count": null,
      "outputs": [
        {
          "output_type": "stream",
          "name": "stdout",
          "text": [
            "*\n",
            "***\n",
            "*****\n"
          ]
        }
      ]
    },
    {
      "cell_type": "code",
      "source": [
        "#W2A17\n",
        "for i in range(1,6,2):\n",
        "    print(\"*\"*(i))"
      ],
      "metadata": {
        "colab": {
          "base_uri": "https://localhost:8080/"
        },
        "id": "HG4c4mf_l3zt",
        "outputId": "a131def5-d0de-47a0-b558-765a18a272bf"
      },
      "execution_count": null,
      "outputs": [
        {
          "output_type": "stream",
          "name": "stdout",
          "text": [
            "*\n",
            "***\n",
            "*****\n"
          ]
        }
      ]
    },
    {
      "cell_type": "code",
      "source": [
        "#W2A18\n",
        "print(\"### # #  ### ###\")\n",
        "print(\" #  #  #  #   #\")\n",
        "print(\" #  #  #  #   #\")\n",
        "print(\" #  # #   #   #\")"
      ],
      "metadata": {
        "colab": {
          "base_uri": "https://localhost:8080/"
        },
        "id": "9XsUKlMZi3O3",
        "outputId": "e4af26dc-5809-4ccd-ce1d-2fc1e5e1302b"
      },
      "execution_count": null,
      "outputs": [
        {
          "output_type": "stream",
          "name": "stdout",
          "text": [
            "### # #  ### ###\n",
            " #  #  #  #   #\n",
            " #  #  #  #   #\n",
            " #  # #   #   #\n"
          ]
        }
      ]
    },
    {
      "cell_type": "code",
      "source": [
        "#W2A19\n",
        "print(\"Monday\\nTuesday\\nWednesday\\nThursday\\nFriday\\nSaturday\\nSunday\")"
      ],
      "metadata": {
        "colab": {
          "base_uri": "https://localhost:8080/"
        },
        "id": "MjqF6eXzhbMt",
        "outputId": "16012dc4-8ca0-4580-c227-ba7710049c9f"
      },
      "execution_count": null,
      "outputs": [
        {
          "output_type": "stream",
          "name": "stdout",
          "text": [
            "Monday\n",
            "Tuesday\n",
            "Wednesday\n",
            "Thursday\n",
            "Friday\n",
            "Saturday\n",
            "Sunday\n"
          ]
        }
      ]
    },
    {
      "cell_type": "code",
      "source": [
        "#W2A20\n",
        "print(\"January\\nFebruary\\nMarch\\nApril\\nMay\\nJune\\nJuly\\nAugust\\nSeptember\\nOctober\\nNovember\\nDecember\")"
      ],
      "metadata": {
        "colab": {
          "base_uri": "https://localhost:8080/"
        },
        "id": "Q9fIYlFtiqXc",
        "outputId": "006a75f7-2f2c-4fcf-a344-31fc4d214b94"
      },
      "execution_count": null,
      "outputs": [
        {
          "output_type": "stream",
          "name": "stdout",
          "text": [
            "January\n",
            "February\n",
            "March\n",
            "April\n",
            "May\n",
            "June\n",
            "July\n",
            "August\n",
            "September\n",
            "October\n",
            "November\n",
            "December\n"
          ]
        }
      ]
    },
    {
      "cell_type": "code",
      "source": [
        "#W2A20\n",
        "months = [\"January\",\"February\",\"March\",\"April\",\"May\",\"June\",\"July\",\"August\",\"September\",\"October\",\"November\",\"December\"]\n",
        "for i in range(12):\n",
        "    print(months[i])"
      ],
      "metadata": {
        "colab": {
          "base_uri": "https://localhost:8080/"
        },
        "id": "TEU9CpWnoEdT",
        "outputId": "2c3cb2a4-45fb-45a4-e7a1-be3a4b860787"
      },
      "execution_count": null,
      "outputs": [
        {
          "output_type": "stream",
          "name": "stdout",
          "text": [
            "January\n",
            "February\n",
            "March\n",
            "April\n",
            "May\n",
            "June\n",
            "July\n",
            "August\n",
            "September\n",
            "October\n",
            "November\n",
            "December\n"
          ]
        }
      ]
    },
    {
      "cell_type": "code",
      "source": [
        "#W2A21\n",
        "for i in range(10):\n",
        "    print(\"Hello World\")"
      ],
      "metadata": {
        "colab": {
          "base_uri": "https://localhost:8080/"
        },
        "id": "Qf9tqi5DkylJ",
        "outputId": "83f241f9-39a8-48dc-d3d0-3113cf71a0c1"
      },
      "execution_count": null,
      "outputs": [
        {
          "output_type": "stream",
          "name": "stdout",
          "text": [
            "Hello World\n",
            "Hello World\n",
            "Hello World\n",
            "Hello World\n",
            "Hello World\n",
            "Hello World\n",
            "Hello World\n",
            "Hello World\n",
            "Hello World\n",
            "Hello World\n"
          ]
        }
      ]
    }
  ]
}