{
 "cells": [
  {
   "cell_type": "code",
   "execution_count": 24,
   "metadata": {},
   "outputs": [
    {
     "name": "stdout",
     "output_type": "stream",
     "text": [
      "So cu la 5 va 7\n",
      "So moi la 7 va 5\n"
     ]
    }
   ],
   "source": [
    "#W3A2\n",
    "a = 5\n",
    "b = 7\n",
    "print(f\"So cu la {a} va {b}\")\n",
    "a = a^b\n",
    "b = a^b\n",
    "a = a^b\n",
    "print(f\"So moi la {a} va {b}\")"
   ]
  },
  {
   "cell_type": "code",
   "execution_count": 26,
   "metadata": {},
   "outputs": [
    {
     "name": "stdin",
     "output_type": "stream",
     "text": [
      " 5\n"
     ]
    },
    {
     "name": "stdout",
     "output_type": "stream",
     "text": [
      "5 khong phai la luy thua cua 2\n"
     ]
    }
   ],
   "source": [
    "#W3A3\n",
    "n = int(input())\n",
    "\n",
    "if n > 0 and (n & (n - 1)) == 0:\n",
    "    print(f\"{n} la luy thua cua 2\")\n",
    "else:\n",
    "    print(f\"{n} khong phai la luy thua cua 2\")"
   ]
  },
  {
   "cell_type": "code",
   "execution_count": 5,
   "metadata": {
    "colab": {
     "base_uri": "https://localhost:8080/"
    },
    "id": "LJH0LWxNkfRE",
    "outputId": "d2f27011-18e6-4875-c2f6-0a43c00e4d65"
   },
   "outputs": [
    {
     "name": "stdout",
     "output_type": "stream",
     "text": [
      "10 4\n",
      "a/b = 2\n"
     ]
    }
   ],
   "source": [
    "#W3A4\n",
    "import math\n",
    "a, b = map(int, input().split())\n",
    "print(f\"a/b = {math.floor(a/b)}\")"
   ]
  },
  {
   "cell_type": "code",
   "execution_count": 6,
   "metadata": {
    "colab": {
     "base_uri": "https://localhost:8080/"
    },
    "id": "BCCBno0tnKrI",
    "outputId": "247443d6-149e-4d61-d23c-2c9f55bdd7f0"
   },
   "outputs": [
    {
     "name": "stdout",
     "output_type": "stream",
     "text": [
      "10 4\n",
      "a/b = 3\n"
     ]
    }
   ],
   "source": [
    "#W3A5\n",
    "import math\n",
    "a, b = map(int, input().split())\n",
    "print(f\"a/b = {math.ceil(a/b)}\")"
   ]
  },
  {
   "cell_type": "code",
   "execution_count": 9,
   "metadata": {
    "colab": {
     "base_uri": "https://localhost:8080/"
    },
    "id": "txQxwxuonwMm",
    "outputId": "8e4f07d8-2607-4b6b-89bb-0b1b2daaab86"
   },
   "outputs": [
    {
     "name": "stdout",
     "output_type": "stream",
     "text": [
      "10\n",
      "Even\n"
     ]
    }
   ],
   "source": [
    "#W3A6\n",
    "a = int(input())\n",
    "if a % 2 == 0:\n",
    "    print(\"Even\")\n",
    "else:\n",
    "    print(\"Odd\")"
   ]
  },
  {
   "cell_type": "code",
   "execution_count": 13,
   "metadata": {
    "colab": {
     "base_uri": "https://localhost:8080/"
    },
    "id": "trOVTVjnognq",
    "outputId": "efba95a1-65a6-4fe1-e1cc-6bad19999d5e"
   },
   "outputs": [
    {
     "name": "stdout",
     "output_type": "stream",
     "text": [
      "Nhap 2 so nguyen-5 6\n",
      "No\n"
     ]
    }
   ],
   "source": [
    "#W3A7\n",
    "a, b = map(int, input(\"Nhap 2 so nguyen\").split())\n",
    "if a / b > 0:\n",
    "  print(\"Yes\")\n",
    "else:\n",
    "  print(\"No\")"
   ]
  },
  {
   "cell_type": "code",
   "execution_count": 14,
   "metadata": {
    "colab": {
     "base_uri": "https://localhost:8080/"
    },
    "id": "D_VF-qARpij-",
    "outputId": "de98ac5d-a415-40b1-b872-ceaae9075ed5"
   },
   "outputs": [
    {
     "name": "stdout",
     "output_type": "stream",
     "text": [
      "a:hi\n",
      "b:hello\n",
      "False\n"
     ]
    }
   ],
   "source": [
    "#W3A8\n",
    "a = input(\"a:\")\n",
    "b = input(\"b:\")\n",
    "if len(a) > len(b):\n",
    "  print(\"True\")\n",
    "else:\n",
    "  print(\"False\")"
   ]
  },
  {
   "cell_type": "code",
   "execution_count": 7,
   "metadata": {
    "id": "-hjQfHqnqpDb"
   },
   "outputs": [
    {
     "name": "stdin",
     "output_type": "stream",
     "text": [
      "Nhap 3 so 1 2 3\n"
     ]
    },
    {
     "name": "stdout",
     "output_type": "stream",
     "text": [
      "No\n"
     ]
    }
   ],
   "source": [
    "#W3A9\n",
    "a, b, c = map(int,input(\"Nhap 3 so\").split())\n",
    "if a + b > c  and a + c > b and b + c > a:\n",
    "  print(\"Yes\")\n",
    "else:\n",
    "  print(\"No\")"
   ]
  },
  {
   "cell_type": "code",
   "execution_count": 9,
   "metadata": {},
   "outputs": [
    {
     "name": "stdin",
     "output_type": "stream",
     "text": [
      "Nhap 4 so nguyen 2 4 192 -7\n"
     ]
    },
    {
     "name": "stdout",
     "output_type": "stream",
     "text": [
      "So lon nhat la: 192\n"
     ]
    }
   ],
   "source": [
    "#W3A10\n",
    "a, b, c, d = map(int,input(\"Nhap 4 so nguyen\").split())\n",
    "numbers = max(a, b, c, d)\n",
    "print(f\"So lon nhat la: {numbers}\")"
   ]
  },
  {
   "cell_type": "code",
   "execution_count": 11,
   "metadata": {},
   "outputs": [
    {
     "name": "stdin",
     "output_type": "stream",
     "text": [
      "Nhap 3 canh 1 1 2\n"
     ]
    },
    {
     "name": "stdout",
     "output_type": "stream",
     "text": [
      "Tam giac can\n"
     ]
    }
   ],
   "source": [
    "#W3A11\n",
    "a, b, c = map(int,input(\"Nhap 3 canh\").split())\n",
    "if a + b > c and a + c > b and b + c > a:\n",
    "    print(\"Tam giac thuong\")\n",
    "elif a == b or a == c or b == c:\n",
    "    print(\"Tam giac can\")\n",
    "elif a == b == c:\n",
    "    print (\"Tam giac deu\")\n",
    "else:\n",
    "    print(\"Khong phai tam giac\")"
   ]
  },
  {
   "cell_type": "code",
   "execution_count": 12,
   "metadata": {},
   "outputs": [
    {
     "name": "stdin",
     "output_type": "stream",
     "text": [
      "Nhap so nam:  2000\n"
     ]
    },
    {
     "name": "stdout",
     "output_type": "stream",
     "text": [
      "Yes\n"
     ]
    }
   ],
   "source": [
    "#W3A12\n",
    "a = int(input(\"Nhap so nam: \"))\n",
    "if a % 4 == 0:\n",
    "    print(\"Yes\")\n",
    "else:\n",
    "    print(\"No\")"
   ]
  },
  {
   "cell_type": "code",
   "execution_count": 19,
   "metadata": {},
   "outputs": [
    {
     "name": "stdin",
     "output_type": "stream",
     "text": [
      "Nhap a va b trong ax + b = 0 0 1\n"
     ]
    },
    {
     "name": "stdout",
     "output_type": "stream",
     "text": [
      "Vo nghiem\n"
     ]
    }
   ],
   "source": [
    "#W3A14\n",
    "a, b = map(int,input(\"Nhap a va b trong ax + b = 0\").split())\n",
    "if a == b == 0:\n",
    "    print(\"Vo so nghiem\")\n",
    "elif a == 0 and b != 0:\n",
    "    print(\"Vo nghiem\")\n",
    "else:\n",
    "    x = round(-b/a, 2)\n",
    "    print(f\" x = {x}\")"
   ]
  },
  {
   "cell_type": "code",
   "execution_count": 21,
   "metadata": {},
   "outputs": [
    {
     "name": "stdin",
     "output_type": "stream",
     "text": [
      "Nhap diem:  4\n"
     ]
    },
    {
     "name": "stdout",
     "output_type": "stream",
     "text": [
      "Yeu\n"
     ]
    }
   ],
   "source": [
    "#W3A15\n",
    "a = float(input(\"Nhap diem: \"))\n",
    "if a >= 8:\n",
    "    print(\"Gioi\")\n",
    "elif a >= 6.5:\n",
    "    print(\"Kha\")\n",
    "elif a >= 5:\n",
    "    print(\"Trung binh\")\n",
    "else:\n",
    "    print(\"Yeu\")"
   ]
  },
  {
   "cell_type": "code",
   "execution_count": 33,
   "metadata": {},
   "outputs": [
    {
     "name": "stdin",
     "output_type": "stream",
     "text": [
      "Nhap 4 so nguyen:  1 2 4 8\n"
     ]
    },
    {
     "name": "stdout",
     "output_type": "stream",
     "text": [
      " 1, 2, 4, 8 la mot cap so nhan\n"
     ]
    }
   ],
   "source": [
    "#W3A16\n",
    "a, b, c, d = map(int,input(\"Nhap 4 so nguyen: \").split())\n",
    "r = b // a\n",
    "if b * r == c and c * r == d:\n",
    "    print(f\" {a}, {b}, {c}, {d} la mot cap so nhan\")\n",
    "else:\n",
    "    print(f\" {a}, {b}, {c}, {d} khong phai la mot cap so nhan\")"
   ]
  },
  {
   "cell_type": "code",
   "execution_count": 38,
   "metadata": {},
   "outputs": [
    {
     "name": "stdin",
     "output_type": "stream",
     "text": [
      "Nhap 1 so thuc:  -2.3\n"
     ]
    },
    {
     "name": "stdout",
     "output_type": "stream",
     "text": [
      "-3 -2 -3\n"
     ]
    }
   ],
   "source": [
    "#W3A17\n",
    "a = float(input(\"Nhap 1 so thuc: \"))\n",
    "int_part = int(a)\n",
    "frac = a - int_part\n",
    "if a >= 0:\n",
    "    floor = int_part\n",
    "else:\n",
    "    floor = int_part if frac == 0 else int_part - 1\n",
    "if a >= 0:\n",
    "    ceil = int_part if frac == 0 else int_part + 1\n",
    "else:\n",
    "    ceil = int_part\n",
    "if a >= 0:\n",
    "    round_ = int_part + 1 if frac >= 0.5 else int_part\n",
    "else:\n",
    "    round_ = int_part - 1 if frac <= 0.5 else int_part\n",
    "print(f\"{floor} {ceil} {round_}\")\n"
   ]
  }
 ],
 "metadata": {
  "colab": {
   "provenance": []
  },
  "kernelspec": {
   "display_name": "Python 3 (ipykernel)",
   "language": "python",
   "name": "python3"
  },
  "language_info": {
   "codemirror_mode": {
    "name": "ipython",
    "version": 3
   },
   "file_extension": ".py",
   "mimetype": "text/x-python",
   "name": "python",
   "nbconvert_exporter": "python",
   "pygments_lexer": "ipython3",
   "version": "3.13.7"
  }
 },
 "nbformat": 4,
 "nbformat_minor": 4
}
