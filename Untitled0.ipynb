{
 "nbformat": 4,
 "nbformat_minor": 0,
 "metadata": {
  "colab": {
   "provenance": []
  },
  "kernelspec": {
   "name": "python3",
   "display_name": "Python 3"
  },
  "language_info": {
   "name": "python"
  }
 },
 "cells": [
  {
   "cell_type": "markdown",
   "source": [],
   "metadata": {
    "id": "C9sGeTIUdymH"
   }
  },
  {
   "cell_type": "code",
   "source": [
    "#W2A1\n",
    "print (\"Hello World \")"
   ],
   "metadata": {
    "colab": {
     "base_uri": "https://localhost:8080/"
    },
    "id": "Mc4iG42KZK4z",
    "outputId": "6124da11-6fde-4423-fa78-50fb129d397e",
    "jupyter": {
     "is_executing": true
    }
   },
   "outputs": [],
   "execution_count": null
  },
  {
   "cell_type": "code",
   "source": [
    "#W2A2\n",
    "user_name = input(\"Hi, what is your name? \")\n",
    "print(f\"Hello, {user_name}\")"
   ],
   "metadata": {
    "colab": {
     "base_uri": "https://localhost:8080/"
    },
    "id": "dy78chC0V-6F",
    "outputId": "58719cc0-d1d6-4b5b-f33b-5dce79d52c11"
   },
   "execution_count": null,
   "outputs": [
    {
     "output_type": "stream",
     "name": "stdout",
     "text": [
      "Hi, what is your name? Minh\n",
      "Hello, Minh\n"
     ]
    }
   ]
  },
  {
   "cell_type": "code",
   "source": [
    "def add_numbers(a, b):\n",
    "  result = a**b\n",
    "  return result\n",
    "  print(result)"
   ],
   "metadata": {
    "id": "wmQUet94nSmK"
   },
   "execution_count": null,
   "outputs": []
  },
  {
   "cell_type": "code",
   "source": [
    "#W2A10\n",
    "user_1 = input()\n",
    "user_2 = input()\n",
    "User_3 = input()\n",
    "print(f\"Hello {User_3}, {user_2} and {user_1}\")"
   ],
   "metadata": {
    "colab": {
     "base_uri": "https://localhost:8080/"
    },
    "id": "EVWTVCJuZtH-",
    "outputId": "bbf3a851-ac95-4843-f7a9-ef01f702e150"
   },
   "execution_count": null,
   "outputs": [
    {
     "output_type": "stream",
     "name": "stdout",
     "text": [
      "K\n",
      "L\n",
      "M\n",
      "Hello M, L and K\n"
     ]
    }
   ]
  },
  {
   "cell_type": "code",
   "source": [
    "#W2A10\n",
    "a, b, c = input().split()\n",
    "print(f\"Hi {c} ,  {b} and {a}\")"
   ],
   "metadata": {
    "id": "ixhKjOSifuBO"
   },
   "execution_count": null,
   "outputs": []
  },
  {
   "cell_type": "code",
   "source": [
    "#W2A16\n",
    "print(\"Spring\\nSummer\\nAutumn\\nWinter\")"
   ],
   "metadata": {
    "colab": {
     "base_uri": "https://localhost:8080/"
    },
    "id": "BUU1CxUldq4w",
    "outputId": "daff4d1a-1ac7-4697-fed8-5a593c46d2b2"
   },
   "execution_count": null,
   "outputs": [
    {
     "output_type": "stream",
     "name": "stdout",
     "text": [
      "Spring\n",
      "Summer\n",
      "Autumn\n",
      "Winter\n"
     ]
    }
   ]
  },
  {
   "cell_type": "code",
   "source": [
    "#W2A17\n",
    "print(\"*\")\n",
    "print(\"***\")\n",
    "print(\"*****\")"
   ],
   "metadata": {
    "colab": {
     "base_uri": "https://localhost:8080/"
    },
    "id": "PALfb3kpg1Jj",
    "outputId": "8f6257bf-02fd-40d2-c4d6-13b4a06bbc40"
   },
   "execution_count": null,
   "outputs": [
    {
     "output_type": "stream",
     "name": "stdout",
     "text": [
      "*\n",
      "***\n",
      "*****\n"
     ]
    }
   ]
  },
  {
   "cell_type": "code",
   "source": [
    "#W2A17\n",
    "for i in range(1,6,2):\n",
    "    print(\"*\"*(i))"
   ],
   "metadata": {
    "colab": {
     "base_uri": "https://localhost:8080/"
    },
    "id": "HG4c4mf_l3zt",
    "outputId": "a131def5-d0de-47a0-b558-765a18a272bf"
   },
   "execution_count": null,
   "outputs": [
    {
     "output_type": "stream",
     "name": "stdout",
     "text": [
      "*\n",
      "***\n",
      "*****\n"
     ]
    }
   ]
  },
  {
   "cell_type": "code",
   "source": [
    "#W2A18\n",
    "print(\"### # #  ### ###\")\n",
    "print(\" #  #  #  #   #\")\n",
    "print(\" #  #  #  #   #\")\n",
    "print(\" #  # #   #   #\")"
   ],
   "metadata": {
    "colab": {
     "base_uri": "https://localhost:8080/"
    },
    "id": "9XsUKlMZi3O3",
    "outputId": "e4af26dc-5809-4ccd-ce1d-2fc1e5e1302b"
   },
   "execution_count": null,
   "outputs": [
    {
     "output_type": "stream",
     "name": "stdout",
     "text": [
      "### # #  ### ###\n",
      " #  #  #  #   #\n",
      " #  #  #  #   #\n",
      " #  # #   #   #\n"
     ]
    }
   ]
  },
  {
   "cell_type": "code",
   "source": [
    "#W2A19\n",
    "print(\"Monday\\nTuesday\\nWednesday\\nThursday\\nFriday\\nSaturday\\nSunday\")"
   ],
   "metadata": {
    "colab": {
     "base_uri": "https://localhost:8080/"
    },
    "id": "MjqF6eXzhbMt",
    "outputId": "16012dc4-8ca0-4580-c227-ba7710049c9f"
   },
   "execution_count": null,
   "outputs": [
    {
     "output_type": "stream",
     "name": "stdout",
     "text": [
      "Monday\n",
      "Tuesday\n",
      "Wednesday\n",
      "Thursday\n",
      "Friday\n",
      "Saturday\n",
      "Sunday\n"
     ]
    }
   ]
  },
  {
   "cell_type": "code",
   "source": [
    "#W2A20\n",
    "print(\"January\\nFebruary\\nMarch\\nApril\\nMay\\nJune\\nJuly\\nAugust\\nSeptember\\nOctober\\nNovember\\nDecember\")"
   ],
   "metadata": {
    "colab": {
     "base_uri": "https://localhost:8080/"
    },
    "id": "Q9fIYlFtiqXc",
    "outputId": "006a75f7-2f2c-4fcf-a344-31fc4d214b94"
   },
   "execution_count": null,
   "outputs": [
    {
     "output_type": "stream",
     "name": "stdout",
     "text": [
      "January\n",
      "February\n",
      "March\n",
      "April\n",
      "May\n",
      "June\n",
      "July\n",
      "August\n",
      "September\n",
      "October\n",
      "November\n",
      "December\n"
     ]
    }
   ]
  },
  {
   "cell_type": "code",
   "source": [
    "#W2A20\n",
    "months = [\"January\",\"February\",\"March\",\"April\",\"May\",\"June\",\"July\",\"August\",\"September\",\"October\",\"November\",\"December\"]\n",
    "for i in range(12):\n",
    "    print(months[i])"
   ],
   "metadata": {
    "colab": {
     "base_uri": "https://localhost:8080/"
    },
    "id": "TEU9CpWnoEdT",
    "outputId": "e999ae48-cc00-4870-a6fc-7f932e9d9ce8"
   },
   "execution_count": null,
   "outputs": [
    {
     "output_type": "stream",
     "name": "stdout",
     "text": [
      "January\n",
      "February\n",
      "March\n",
      "April\n",
      "May\n",
      "June\n",
      "July\n",
      "August\n",
      "September\n",
      "October\n",
      "November\n",
      "December\n"
     ]
    }
   ]
  },
  {
   "cell_type": "code",
   "source": [
    "#W2A21\n",
    "for i in range(10):\n",
    "    print(\"Hello World\")"
   ],
   "metadata": {
    "colab": {
     "base_uri": "https://localhost:8080/"
    },
    "id": "Qf9tqi5DkylJ",
    "outputId": "83f241f9-39a8-48dc-d3d0-3113cf71a0c1"
   },
   "execution_count": null,
   "outputs": [
    {
     "output_type": "stream",
     "name": "stdout",
     "text": [
      "Hello World\n",
      "Hello World\n",
      "Hello World\n",
      "Hello World\n",
      "Hello World\n",
      "Hello World\n",
      "Hello World\n",
      "Hello World\n",
      "Hello World\n",
      "Hello World\n"
     ]
    }
   ]
  }
 ]
}
