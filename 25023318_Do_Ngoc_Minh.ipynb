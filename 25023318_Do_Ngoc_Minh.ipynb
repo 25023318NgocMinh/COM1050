{
  "nbformat": 4,
  "nbformat_minor": 0,
  "metadata": {
    "colab": {
      "provenance": []
    },
    "kernelspec": {
      "name": "python3",
      "display_name": "Python 3"
    },
    "language_info": {
      "name": "python"
    }
  },
  "cells": [
    {
      "cell_type": "markdown",
      "source": [
        "DEM CHU TRONG CAU"
      ],
      "metadata": {
        "id": "ISdrDXTa75QI"
      }
    },
    {
      "cell_type": "code",
      "source": [
        "sentence = input(\"Enter a sentence: \") # Lay du lieu\n",
        "\n",
        "count = 0 # Gia tri ban dau\n",
        "\n",
        "for char in sentence: # Lap qua tung ky tu trong cau\n",
        "    if char.isalnum(): # Kiem tra ky tu co phai chu hay khong\n",
        "        count += 1 # Tang gia tri len 1\n",
        "\n",
        "print(\"Number of alphanumeric characters:\", count) # In ra ket qua"
      ],
      "metadata": {
        "colab": {
          "base_uri": "https://localhost:8080/"
        },
        "id": "ut_0uAj45bUF",
        "outputId": "237ec111-804b-4d4b-b47f-9805c493d18b"
      },
      "execution_count": 5,
      "outputs": [
        {
          "output_type": "stream",
          "name": "stdout",
          "text": [
            "Enter a sentence: meo meo\n",
            "Number of alphanumeric characters: 6\n"
          ]
        }
      ]
    },
    {
      "cell_type": "markdown",
      "source": [
        "DEM TU TRONG CAU\n",
        "\n"
      ],
      "metadata": {
        "id": "6fhxv0Ra73UH"
      }
    },
    {
      "cell_type": "code",
      "source": [
        "sentence = input(\"Enter a sentence: \") #Lay du lieu\n",
        "words = sentence.split()  #Chia cac tu trong cau\n",
        "word_count = len(words) #Dem so tu\n",
        "print(\"Number of words in the sentence:\", word_count) #In ra ket qua"
      ],
      "metadata": {
        "colab": {
          "base_uri": "https://localhost:8080/"
        },
        "id": "awWKT4sc8N07",
        "outputId": "9a02346a-078a-4b6e-bfd1-a4a5698d55a0"
      },
      "execution_count": 7,
      "outputs": [
        {
          "output_type": "stream",
          "name": "stdout",
          "text": [
            "Enter a sentence: meo meo\n",
            "Number of words in the sentence: 2\n"
          ]
        }
      ]
    },
    {
      "cell_type": "markdown",
      "source": [
        "**TRUONG HOP 1**\n",
        "1. Nguyên nhân lỗi\n",
        "\n",
        "- Trong code có item / 0 → phép chia cho 0 gây ra ZeroDivisionError.\n",
        "\n",
        "Dữ liệu có chứa số âm hoặc bằng 0 nên sẽ rơi vào nhánh else.\n",
        "\n",
        "2. Giải pháp fix\n",
        "\n",
        "- Bỏ qua giá trị âm/0.\n",
        "\n",
        "- Hoặc thay thế bằng giá trị mặc định (ví dụ None).\n",
        "\n",
        "- Hoặc raise lỗi nhưng phải có error handling."
      ],
      "metadata": {
        "id": "LCKy2hjw94l8"
      }
    },
    {
      "cell_type": "code",
      "source": [
        "#SUA TH 1\n",
        "def process_data(data):\n",
        "    result = []\n",
        "    for item in data:\n",
        "        try:\n",
        "            if item > 0:\n",
        "                result.append(item * 2)\n",
        "            else:\n",
        "# Giả sử quy ước: số <= 0 thì append None\n",
        "                result.append(None)\n",
        "        except Exception as e:\n",
        "            print(f\"Lỗi khi xử lý item {item}: {e}\")\n",
        "            result.append(None)\n",
        "    return result\n",
        "\n",
        "# Test\n",
        "data = [1, -2, 3, 0, -5]\n",
        "print(process_data(data))\n"
      ],
      "metadata": {
        "colab": {
          "base_uri": "https://localhost:8080/"
        },
        "id": "efwY75ON-h-H",
        "outputId": "e15bf6fb-06a0-4160-8de8-d57ab661f001"
      },
      "execution_count": 13,
      "outputs": [
        {
          "output_type": "stream",
          "name": "stdout",
          "text": [
            "[2, None, 6, None, None]\n"
          ]
        }
      ]
    },
    {
      "cell_type": "markdown",
      "source": [
        "**TRUONG HOP 2**\n",
        "1. Nguyên nhân lỗi\n",
        "\n",
        "- Code khởi tạo max_num = 0 không đúng:\n",
        "\n",
        "- Nếu danh sách toàn số âm → kết quả sẽ sai vì max_num luôn ≥ 0.\n",
        "\n",
        "2. Giải pháp fix\n",
        "\n",
        "- Khởi tạo max_num = numbers[0] để so sánh đúng.\n",
        "\n",
        "- Thêm check nếu danh sách rỗng thì raise ValueError."
      ],
      "metadata": {
        "id": "za9_jQ5N_APc"
      }
    },
    {
      "cell_type": "code",
      "source": [
        "def find_max_number(numbers):\n",
        "    if not numbers:\n",
        "        raise ValueError(\"Danh sách rỗng, không tìm được giá trị lớn nhất\")\n",
        "\n",
        "    max_num = numbers[0]\n",
        "    for num in numbers[1:]:\n",
        "        if num > max_num:\n",
        "            max_num = num\n",
        "    return max_num\n",
        "\n",
        "# Test\n",
        "print(find_max_number([1, 3, 2]))\n",
        "print(find_max_number([-5, -2, -10]))"
      ],
      "metadata": {
        "colab": {
          "base_uri": "https://localhost:8080/"
        },
        "id": "BdlITJaT_WBT",
        "outputId": "5c83cb47-f228-4aea-fb1d-483f40d47e35"
      },
      "execution_count": 14,
      "outputs": [
        {
          "output_type": "stream",
          "name": "stdout",
          "text": [
            "3\n",
            "-2\n"
          ]
        }
      ]
    },
    {
      "cell_type": "markdown",
      "source": [
        "**TRUONG HOP 3**\n",
        "1. Nguyên nhân lỗi\n",
        "- IndexError:\n",
        "subject_score = scores[subject_index] → nếu scores không đủ phần tử (như Bob chỉ có 2 môn, mà index=2 thì lỗi).\n",
        "\n",
        "- ZeroDivisionError:\n",
        "average = sum(scores) / len(scores) → nếu scores rỗng (David) thì chia cho 0.\n",
        "\n",
        "- TypeError:\n",
        "sum(scores) → nếu trong scores có phần tử không phải số (Charlie có \"N/A\") thì không cộng được.\n",
        "\n",
        "- Logic bug trong calculate_grade:\n",
        "Hàm chỉ xử lý cho >= 80 → còn điểm thấp hơn không return gì cả, kết quả là None.\n",
        "\n",
        "2. Giải pháp fix\n",
        "\n",
        "- Validate dữ liệu trước khi tính toán:\n",
        "\n",
        "- Nếu subject_index nằm ngoài range → gán None.\n",
        "\n",
        "- Nếu danh sách rỗng → average = None.\n",
        "\n",
        "- Nếu có giá trị không phải số → bỏ qua hoặc chuyển thành 0.\n",
        "\n",
        "- Cải thiện calculate_grade để đủ case.\n",
        "\n",
        "- Thêm error handling (try-except) nhưng giữ cho code clean."
      ],
      "metadata": {
        "id": "E6t1mSu-ABm6"
      }
    },
    {
      "cell_type": "code",
      "source": [
        "def process_student_scores(students, subject_index):\n",
        "    results = []\n",
        "    for student in students:\n",
        "        try:\n",
        "            name = student[0]\n",
        "            scores = student[1]\n",
        "\n",
        "            # Validate scores: chỉ lấy số, bỏ qua giá trị không hợp lệ\n",
        "            valid_scores = [s for s in scores if isinstance(s, (int, float))]\n",
        "\n",
        "            # Xử lý subject_score\n",
        "            subject_score = None\n",
        "            if 0 <= subject_index < len(valid_scores):\n",
        "                subject_score = valid_scores[subject_index]\n",
        "\n",
        "            # Tính average (nếu có điểm hợp lệ)\n",
        "            if valid_scores:\n",
        "                average = sum(valid_scores) / len(valid_scores)\n",
        "            else:\n",
        "                average = None\n",
        "\n",
        "            grade = calculate_grade(average) if average is not None else None\n",
        "\n",
        "            results.append({\n",
        "                'name': name,\n",
        "                'subject_score': subject_score,\n",
        "                'average': average,\n",
        "                'grade': grade\n",
        "            })\n",
        "        except Exception as e:\n",
        "            print(f\"Lỗi khi xử lý {student}: {e}\")\n",
        "            results.append({\n",
        "                'name': student[0] if student else \"Unknown\",\n",
        "                'subject_score': None,\n",
        "                'average': None,\n",
        "                'grade': None\n",
        "            })\n",
        "    return results\n",
        "\n",
        "\n",
        "def calculate_grade(score):\n",
        "    if score is None:\n",
        "        return None\n",
        "    if score >= 90:\n",
        "        return 'A'\n",
        "    elif score >= 80:\n",
        "        return 'B'\n",
        "    elif score >= 70:\n",
        "        return 'C'\n",
        "    elif score >= 60:\n",
        "        return 'D'\n",
        "    else:\n",
        "        return 'F'\n",
        "\n",
        "\n",
        "# Test data\n",
        "students = [\n",
        "    ['Alice', [85, 90, 78]],\n",
        "    ['Bob', [92, 88]],  # ít môn\n",
        "    ['Charlie', ['N/A', 85, 90]],  # có string\n",
        "    ['David', []]  # rỗng\n",
        "]\n",
        "\n",
        "print(process_student_scores(students, 2))"
      ],
      "metadata": {
        "colab": {
          "base_uri": "https://localhost:8080/"
        },
        "id": "FRcPn5tS_-HI",
        "outputId": "63d328b5-e572-42fd-d406-83803864f8dd"
      },
      "execution_count": 15,
      "outputs": [
        {
          "output_type": "stream",
          "name": "stdout",
          "text": [
            "[{'name': 'Alice', 'subject_score': 78, 'average': 84.33333333333333, 'grade': 'B'}, {'name': 'Bob', 'subject_score': None, 'average': 90.0, 'grade': 'A'}, {'name': 'Charlie', 'subject_score': None, 'average': 87.5, 'grade': 'B'}, {'name': 'David', 'subject_score': None, 'average': None, 'grade': None}]\n"
          ]
        }
      ]
    }
  ]
}